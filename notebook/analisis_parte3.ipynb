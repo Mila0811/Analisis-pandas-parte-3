{
 "cells": [
  {
   "cell_type": "markdown",
   "metadata": {},
   "source": [
    "Carga el archivo retail_sales.csv en un DataFrame de Pandas."
   ]
  },
  {
   "cell_type": "code",
   "execution_count": 1,
   "metadata": {},
   "outputs": [],
   "source": [
    "import pandas as pd\n",
    "\n",
    "df = pd.read_csv('../data/retail_sales.csv')"
   ]
  },
  {
   "cell_type": "markdown",
   "metadata": {},
   "source": [
    "Muestra las primeras 10 filas del DataFrame para confirmar que los datos se han cargado correctamente."
   ]
  },
  {
   "cell_type": "code",
   "execution_count": 2,
   "metadata": {},
   "outputs": [
    {
     "name": "stdout",
     "output_type": "stream",
     "text": [
      "   Transaction ID        Date Customer ID  Gender  Age Product Category  \\\n",
      "0               1  2023-11-24     CUST001    Male   34           Beauty   \n",
      "1               2  2023-02-27     CUST002  Female   26         Clothing   \n",
      "2               3  2023-01-13     CUST003    Male   50      Electronics   \n",
      "3               4  2023-05-21     CUST004    Male   37         Clothing   \n",
      "4               5  2023-05-06     CUST005    Male   30           Beauty   \n",
      "5               6  2023-04-25     CUST006  Female   45           Beauty   \n",
      "6               7  2023-03-13     CUST007    Male   46         Clothing   \n",
      "7               8  2023-02-22     CUST008    Male   30      Electronics   \n",
      "8               9  2023-12-13     CUST009    Male   63      Electronics   \n",
      "9              10  2023-10-07     CUST010  Female   52         Clothing   \n",
      "\n",
      "   Quantity  Price per Unit  Total Amount  \n",
      "0         3              50           150  \n",
      "1         2             500          1000  \n",
      "2         1              30            30  \n",
      "3         1             500           500  \n",
      "4         2              50           100  \n",
      "5         1              30            30  \n",
      "6         2              25            50  \n",
      "7         4              25           100  \n",
      "8         2             300           600  \n",
      "9         4              50           200  \n"
     ]
    }
   ],
   "source": [
    "print(df.head(10))"
   ]
  },
  {
   "cell_type": "markdown",
   "metadata": {},
   "source": [
    "Muestra las últimas 5 filas del DataFrame."
   ]
  },
  {
   "cell_type": "code",
   "execution_count": 3,
   "metadata": {},
   "outputs": [
    {
     "name": "stdout",
     "output_type": "stream",
     "text": [
      "     Transaction ID        Date Customer ID  Gender  Age Product Category  \\\n",
      "995             996  2023-05-16     CUST996    Male   62         Clothing   \n",
      "996             997  2023-11-17     CUST997    Male   52           Beauty   \n",
      "997             998  2023-10-29     CUST998  Female   23           Beauty   \n",
      "998             999  2023-12-05     CUST999  Female   36      Electronics   \n",
      "999            1000  2023-04-12    CUST1000    Male   47      Electronics   \n",
      "\n",
      "     Quantity  Price per Unit  Total Amount  \n",
      "995         1              50            50  \n",
      "996         3              30            90  \n",
      "997         4              25           100  \n",
      "998         3              50           150  \n",
      "999         4              30           120  \n"
     ]
    }
   ],
   "source": [
    "print(df.tail(5))"
   ]
  },
  {
   "cell_type": "markdown",
   "metadata": {},
   "source": [
    "Utiliza el método info() para obtener información general sobre el DataFrame, incluyendo el número de entradas, nombres de las columnas, tipos de datos y memoria utilizada."
   ]
  },
  {
   "cell_type": "code",
   "execution_count": 4,
   "metadata": {},
   "outputs": [
    {
     "name": "stdout",
     "output_type": "stream",
     "text": [
      "<class 'pandas.core.frame.DataFrame'>\n",
      "RangeIndex: 1000 entries, 0 to 999\n",
      "Data columns (total 9 columns):\n",
      " #   Column            Non-Null Count  Dtype \n",
      "---  ------            --------------  ----- \n",
      " 0   Transaction ID    1000 non-null   int64 \n",
      " 1   Date              1000 non-null   object\n",
      " 2   Customer ID       1000 non-null   object\n",
      " 3   Gender            1000 non-null   object\n",
      " 4   Age               1000 non-null   int64 \n",
      " 5   Product Category  1000 non-null   object\n",
      " 6   Quantity          1000 non-null   int64 \n",
      " 7   Price per Unit    1000 non-null   int64 \n",
      " 8   Total Amount      1000 non-null   int64 \n",
      "dtypes: int64(5), object(4)\n",
      "memory usage: 70.4+ KB\n"
     ]
    }
   ],
   "source": [
    "df.info()"
   ]
  },
  {
   "cell_type": "markdown",
   "metadata": {},
   "source": [
    "Genera estadísticas descriptivas del DataFrame utilizando el método describe()."
   ]
  },
  {
   "cell_type": "code",
   "execution_count": 5,
   "metadata": {},
   "outputs": [
    {
     "name": "stdout",
     "output_type": "stream",
     "text": [
      "       Transaction ID         Age     Quantity  Price per Unit  Total Amount\n",
      "count     1000.000000  1000.00000  1000.000000     1000.000000   1000.000000\n",
      "mean       500.500000    41.39200     2.514000      179.890000    456.000000\n",
      "std        288.819436    13.68143     1.132734      189.681356    559.997632\n",
      "min          1.000000    18.00000     1.000000       25.000000     25.000000\n",
      "25%        250.750000    29.00000     1.000000       30.000000     60.000000\n",
      "50%        500.500000    42.00000     3.000000       50.000000    135.000000\n",
      "75%        750.250000    53.00000     4.000000      300.000000    900.000000\n",
      "max       1000.000000    64.00000     4.000000      500.000000   2000.000000\n"
     ]
    }
   ],
   "source": [
    "print(df.describe())"
   ]
  },
  {
   "cell_type": "markdown",
   "metadata": {},
   "source": [
    "Inspecciona los tipos de datos de cada columna utilizando el atributo dtypes.\n",
    "\n"
   ]
  },
  {
   "cell_type": "code",
   "execution_count": 6,
   "metadata": {},
   "outputs": [
    {
     "name": "stdout",
     "output_type": "stream",
     "text": [
      "Transaction ID       int64\n",
      "Date                object\n",
      "Customer ID         object\n",
      "Gender              object\n",
      "Age                  int64\n",
      "Product Category    object\n",
      "Quantity             int64\n",
      "Price per Unit       int64\n",
      "Total Amount         int64\n",
      "dtype: object\n"
     ]
    }
   ],
   "source": [
    "print(df.dtypes)"
   ]
  },
  {
   "cell_type": "markdown",
   "metadata": {},
   "source": [
    "Cuenta los valores únicos en la columna Producto utilizando el método value_counts()."
   ]
  },
  {
   "cell_type": "code",
   "execution_count": 7,
   "metadata": {},
   "outputs": [
    {
     "name": "stdout",
     "output_type": "stream",
     "text": [
      "Product Category\n",
      "Clothing       351\n",
      "Electronics    342\n",
      "Beauty         307\n",
      "Name: count, dtype: int64\n"
     ]
    }
   ],
   "source": [
    "print(df['Product Category'].value_counts())"
   ]
  },
  {
   "cell_type": "markdown",
   "metadata": {},
   "source": [
    "Muestra todos los valores únicos en la columna Tienda utilizando el método unique()."
   ]
  },
  {
   "cell_type": "code",
   "execution_count": 10,
   "metadata": {},
   "outputs": [
    {
     "name": "stdout",
     "output_type": "stream",
     "text": [
      "['Beauty' 'Clothing' 'Electronics']\n"
     ]
    }
   ],
   "source": [
    "print(df['Product Category'].unique())"
   ]
  },
  {
   "cell_type": "markdown",
   "metadata": {},
   "source": [
    "Filtra el DataFrame para mostrar solo las filas donde las ventas (Ventas) sean mayores a 50."
   ]
  },
  {
   "cell_type": "code",
   "execution_count": 12,
   "metadata": {},
   "outputs": [
    {
     "name": "stdout",
     "output_type": "stream",
     "text": [
      "\n",
      "Filas donde Ventas > 50:\n",
      "     Transaction ID        Date Customer ID  Gender  Age Product Category  \\\n",
      "0                 1  2023-11-24     CUST001    Male   34           Beauty   \n",
      "1                 2  2023-02-27     CUST002  Female   26         Clothing   \n",
      "3                 4  2023-05-21     CUST004    Male   37         Clothing   \n",
      "4                 5  2023-05-06     CUST005    Male   30           Beauty   \n",
      "7                 8  2023-02-22     CUST008    Male   30      Electronics   \n",
      "..              ...         ...         ...     ...  ...              ...   \n",
      "993             994  2023-12-18     CUST994  Female   51           Beauty   \n",
      "996             997  2023-11-17     CUST997    Male   52           Beauty   \n",
      "997             998  2023-10-29     CUST998  Female   23           Beauty   \n",
      "998             999  2023-12-05     CUST999  Female   36      Electronics   \n",
      "999            1000  2023-04-12    CUST1000    Male   47      Electronics   \n",
      "\n",
      "     Quantity  Price per Unit  Total Amount  \n",
      "0           3              50           150  \n",
      "1           2             500          1000  \n",
      "3           1             500           500  \n",
      "4           2              50           100  \n",
      "7           4              25           100  \n",
      "..        ...             ...           ...  \n",
      "993         2             500          1000  \n",
      "996         3              30            90  \n",
      "997         4              25           100  \n",
      "998         3              50           150  \n",
      "999         4              30           120  \n",
      "\n",
      "[783 rows x 9 columns]\n"
     ]
    }
   ],
   "source": [
    "ventas_mayores_50 = df[df['Total Amount'] > 50]\n",
    "print(\"\\nFilas donde Ventas > 50:\")\n",
    "print(ventas_mayores_50)"
   ]
  },
  {
   "cell_type": "markdown",
   "metadata": {},
   "source": [
    "Filtra el DataFrame para mostrar solo las filas donde el precio (Precio) sea menor a 0.5.\n"
   ]
  },
  {
   "cell_type": "code",
   "execution_count": 15,
   "metadata": {},
   "outputs": [
    {
     "name": "stdout",
     "output_type": "stream",
     "text": [
      "\n",
      "Filas donde Precio < 0.5:\n",
      "Empty DataFrame\n",
      "Columns: [Transaction ID, Date, Customer ID, Gender, Age, Product Category, Quantity, Price per Unit, Total Amount]\n",
      "Index: []\n"
     ]
    }
   ],
   "source": [
    "precio_menor_05 = df[df['Price per Unit'] < 0.5]\n",
    "print(\"\\nFilas donde Precio < 0.5:\")\n",
    "print(precio_menor_05)"
   ]
  },
  {
   "cell_type": "markdown",
   "metadata": {},
   "source": [
    "Utilizando el método query(), filtra el DataFrame para mostrar las filas donde el producto sea Manzanas y las ventas sean mayores a 30.\n"
   ]
  },
  {
   "cell_type": "code",
   "execution_count": 22,
   "metadata": {},
   "outputs": [
    {
     "name": "stdout",
     "output_type": "stream",
     "text": [
      "\n",
      "Filas donde Product Category es 'Electronics' y Total Amount > 30:\n",
      "     Transaction ID        Date Customer ID  Gender  Age Product Category  \\\n",
      "7                 8  2023-02-22     CUST008    Male   30      Electronics   \n",
      "8                 9  2023-12-13     CUST009    Male   63      Electronics   \n",
      "12               13  2023-08-05     CUST013    Male   22      Electronics   \n",
      "14               15  2023-01-16     CUST015  Female   42      Electronics   \n",
      "17               18  2023-04-30     CUST018  Female   47      Electronics   \n",
      "..              ...         ...         ...     ...  ...              ...   \n",
      "984             985  2023-05-30     CUST985  Female   19      Electronics   \n",
      "991             992  2023-08-21     CUST992  Female   57      Electronics   \n",
      "992             993  2023-02-06     CUST993  Female   48      Electronics   \n",
      "998             999  2023-12-05     CUST999  Female   36      Electronics   \n",
      "999            1000  2023-04-12    CUST1000    Male   47      Electronics   \n",
      "\n",
      "     Quantity  Price per Unit  Total Amount  \n",
      "7           4              25           100  \n",
      "8           2             300           600  \n",
      "12          3             500          1500  \n",
      "14          4             500          2000  \n",
      "17          2              25            50  \n",
      "..        ...             ...           ...  \n",
      "984         2              25            50  \n",
      "991         2              30            60  \n",
      "992         3              50           150  \n",
      "998         3              50           150  \n",
      "999         4              30           120  \n",
      "\n",
      "[308 rows x 9 columns]\n"
     ]
    }
   ],
   "source": [
    "ventas_mayores_30 = df.query(\"`Product Category` == 'Electronics' and `Total Amount` > 30\")\n",
    "print(\"\\nFilas donde Product Category es 'Electronics' y Total Amount > 30:\")\n",
    "print(ventas_mayores_30)"
   ]
  },
  {
   "cell_type": "markdown",
   "metadata": {},
   "source": [
    "\n",
    "Selecciona y muestra solo las columnas Producto y Ventas del DataFrame.\n"
   ]
  },
  {
   "cell_type": "code",
   "execution_count": 24,
   "metadata": {},
   "outputs": [
    {
     "name": "stdout",
     "output_type": "stream",
     "text": [
      "\n",
      "Columnas 'Producto' y 'Ventas':\n",
      "    Product Category  Total Amount\n",
      "0             Beauty           150\n",
      "1           Clothing          1000\n",
      "2        Electronics            30\n",
      "3           Clothing           500\n",
      "4             Beauty           100\n",
      "..               ...           ...\n",
      "995         Clothing            50\n",
      "996           Beauty            90\n",
      "997           Beauty           100\n",
      "998      Electronics           150\n",
      "999      Electronics           120\n",
      "\n",
      "[1000 rows x 2 columns]\n"
     ]
    }
   ],
   "source": [
    "producto_ventas = df[['Product Category', 'Total Amount']]\n",
    "print(\"\\nColumnas 'Producto' y 'Ventas':\")\n",
    "print(producto_ventas)"
   ]
  },
  {
   "cell_type": "markdown",
   "metadata": {},
   "source": [
    "Utilizando loc[], selecciona y muestra las filas de la 5 a la 10 (inclusive) y las columnas Producto y Tienda.\n"
   ]
  },
  {
   "cell_type": "code",
   "execution_count": 27,
   "metadata": {},
   "outputs": [
    {
     "name": "stdout",
     "output_type": "stream",
     "text": [
      "\n",
      "Filas de la 5 a la 10 y columnas 'Producto' y '':\n",
      "   Product Category Customer ID\n",
      "5            Beauty     CUST006\n",
      "6          Clothing     CUST007\n",
      "7       Electronics     CUST008\n",
      "8       Electronics     CUST009\n",
      "9          Clothing     CUST010\n",
      "10         Clothing     CUST011\n"
     ]
    }
   ],
   "source": [
    "loc_seleccion = df.loc[5:10, ['Product Category', 'Customer ID']]\n",
    "print(\"\\nFilas de la 5 a la 10 y columnas 'Producto' y 'Modelo':\")\n",
    "print(loc_seleccion)"
   ]
  },
  {
   "cell_type": "markdown",
   "metadata": {},
   "source": [
    "Utilizando iloc[], selecciona y muestra las primeras 5 filas y las primeras 3 columnas del DataFrame."
   ]
  },
  {
   "cell_type": "code",
   "execution_count": 25,
   "metadata": {},
   "outputs": [
    {
     "name": "stdout",
     "output_type": "stream",
     "text": [
      "\n",
      "Primeras 5 filas y primeras 3 columnas:\n",
      "   Transaction ID        Date Customer ID\n",
      "0               1  2023-11-24     CUST001\n",
      "1               2  2023-02-27     CUST002\n",
      "2               3  2023-01-13     CUST003\n",
      "3               4  2023-05-21     CUST004\n",
      "4               5  2023-05-06     CUST005\n"
     ]
    }
   ],
   "source": [
    "iloc_seleccion = df.iloc[:5, :3]\n",
    "print(\"\\nPrimeras 5 filas y primeras 3 columnas:\")\n",
    "print(iloc_seleccion)"
   ]
  },
  {
   "cell_type": "code",
   "execution_count": 2,
   "metadata": {},
   "outputs": [
    {
     "name": "stdout",
     "output_type": "stream",
     "text": [
      "<class 'pandas.core.frame.DataFrame'>\n",
      "RangeIndex: 1000 entries, 0 to 999\n",
      "Data columns (total 9 columns):\n",
      " #   Column            Non-Null Count  Dtype \n",
      "---  ------            --------------  ----- \n",
      " 0   Transaction ID    1000 non-null   int64 \n",
      " 1   Date              1000 non-null   object\n",
      " 2   Customer ID       1000 non-null   object\n",
      " 3   Gender            1000 non-null   object\n",
      " 4   Age               1000 non-null   int64 \n",
      " 5   Product Category  1000 non-null   object\n",
      " 6   Quantity          1000 non-null   int64 \n",
      " 7   Price per Unit    1000 non-null   int64 \n",
      " 8   Total Amount      1000 non-null   int64 \n",
      "dtypes: int64(5), object(4)\n",
      "memory usage: 70.4+ KB\n"
     ]
    }
   ],
   "source": [
    "df.info()"
   ]
  },
  {
   "cell_type": "markdown",
   "metadata": {},
   "source": [
    "Basándonos en los datos existentes, crea nuevas columnas que sean útiles para el análisis. Por ejemplo, calcula el ingreso total por venta y normaliza las ventas."
   ]
  },
  {
   "cell_type": "code",
   "execution_count": 3,
   "metadata": {},
   "outputs": [
    {
     "name": "stdout",
     "output_type": "stream",
     "text": [
      "   Quantity  Ingreso_Total  Ventas_Normalizadas\n",
      "0         3            150             0.666667\n",
      "1         2           1000             0.333333\n",
      "2         1             30             0.000000\n",
      "3         1            500             0.000000\n",
      "4         2            100             0.333333\n"
     ]
    }
   ],
   "source": [
    "# Calcular el ingreso total por venta\n",
    "df['Ingreso_Total'] = df['Quantity'] * df['Price per Unit']\n",
    "\n",
    "# Normalizar las ventas entre 0 y 1\n",
    "df['Ventas_Normalizadas'] = (df['Quantity'] - df['Quantity'].min()) / (df['Quantity'].max() - df['Quantity'].min())\n",
    "\n",
    "# Visualizar las primeras filas para confirmar\n",
    "print(df[['Quantity', 'Ingreso_Total', 'Ventas_Normalizadas']].head())\n"
   ]
  },
  {
   "cell_type": "markdown",
   "metadata": {},
   "source": [
    "Crea una columna que clasifique las ventas en categorías significativas (e.g., ‘Alta’, ‘Media’, ‘Baja’)."
   ]
  },
  {
   "cell_type": "code",
   "execution_count": 5,
   "metadata": {},
   "outputs": [
    {
     "name": "stdout",
     "output_type": "stream",
     "text": [
      "   Quantity Categoria_Ventas\n",
      "0         3             Baja\n",
      "1         2             Baja\n",
      "2         1             Baja\n",
      "3         1             Baja\n",
      "4         2             Baja\n"
     ]
    }
   ],
   "source": [
    "# Clasificar las ventas en 'Baja', 'Media' y 'Alta'\n",
    "df['Categoria_Ventas'] = pd.cut(df['Quantity'], bins=[0, 10, 20, float('inf')], labels=['Baja', 'Media', 'Alta'])\n",
    "\n",
    "# Verificar la nueva columna de categorías\n",
    "print(df[['Quantity', 'Categoria_Ventas']].head())\n"
   ]
  },
  {
   "cell_type": "markdown",
   "metadata": {},
   "source": [
    "Realiza agrupaciones por categorías como producto y tienda, producto y mes, etc."
   ]
  },
  {
   "cell_type": "code",
   "execution_count": 6,
   "metadata": {},
   "outputs": [
    {
     "name": "stdout",
     "output_type": "stream",
     "text": [
      "                        Ingreso_Total                         Quantity  \\\n",
      "                                  sum        mean         std    count   \n",
      "Product Category Gender                                                  \n",
      "Beauty           Female         74830  450.783133  538.735040      166   \n",
      "                 Male           68685  487.127660  592.899725      141   \n",
      "Clothing         Female         81275  467.097701  577.016491      174   \n",
      "                 Male           74305  419.802260  524.116237      177   \n",
      "Electronics      Female         76735  451.382353  548.644646      170   \n",
      "\n",
      "                        Price per Unit       \n",
      "                                   min  max  \n",
      "Product Category Gender                      \n",
      "Beauty           Female             25  500  \n",
      "                 Male               25  500  \n",
      "Clothing         Female             25  500  \n",
      "                 Male               25  500  \n",
      "Electronics      Female             25  500  \n"
     ]
    }
   ],
   "source": [
    "# Agrupación por Producto y Genero y cálculo de estadísticas\n",
    "grupo_producto_tienda = df.groupby(['Product Category', 'Gender']).agg({\n",
    "    'Ingreso_Total': ['sum', 'mean', 'std'],  # Calcular suma, media y desviación estándar de los ingresos\n",
    "    'Quantity': 'count',  # Contar el número de ventas\n",
    "    'Price per Unit': ['min', 'max']  # Obtener el precio mínimo y máximo en cada grupo\n",
    "})\n",
    "\n",
    "# Mostrar el resultado de la agrupación\n",
    "print(grupo_producto_tienda.head())\n"
   ]
  },
  {
   "cell_type": "markdown",
   "metadata": {},
   "source": [
    "Utiliza funciones como sum, mean, count, min, max, std, y var para obtener estadísticas descriptivas de cada grupo."
   ]
  },
  {
   "cell_type": "code",
   "execution_count": 7,
   "metadata": {},
   "outputs": [
    {
     "name": "stdout",
     "output_type": "stream",
     "text": [
      "                      Ingreso_Total  Quantity\n",
      "Product Category Mes                         \n",
      "Beauty           1            13930  2.384615\n",
      "                 2            14035  2.615385\n",
      "                 3            10545  2.428571\n",
      "                 4            11905  2.379310\n",
      "                 5            12450  2.321429\n"
     ]
    }
   ],
   "source": [
    "# Extraer mes de una columna de fecha (si existe)\n",
    "df['Mes'] = pd.to_datetime(df['Date']).dt.month\n",
    "\n",
    "# Agrupación por Producto y Mes\n",
    "grupo_producto_mes = df.groupby(['Product Category', 'Mes']).agg({\n",
    "    'Ingreso_Total': 'sum',\n",
    "    'Quantity': 'mean'\n",
    "})\n",
    "\n",
    "# Mostrar el resultado de la agrupación\n",
    "print(grupo_producto_mes.head())\n"
   ]
  },
  {
   "cell_type": "markdown",
   "metadata": {},
   "source": [
    "Aplica funciones personalizadas para realizar análisis específicos que no se pueden lograr con las funciones de agregación estándar."
   ]
  },
  {
   "cell_type": "code",
   "execution_count": 8,
   "metadata": {},
   "outputs": [
    {
     "name": "stdout",
     "output_type": "stream",
     "text": [
      "                    Product Category  Quantity  Desviacion_Venta\n",
      "Product Category                                                \n",
      "Beauty           0            Beauty         3          0.488599\n",
      "                 4            Beauty         2         -0.511401\n",
      "                 5            Beauty         1         -1.511401\n",
      "                 11           Beauty         3          0.488599\n",
      "                 20           Beauty         1         -1.511401\n"
     ]
    },
    {
     "name": "stderr",
     "output_type": "stream",
     "text": [
      "C:\\Users\\Acer\\AppData\\Local\\Temp\\ipykernel_15064\\1300151746.py:7: DeprecationWarning: DataFrameGroupBy.apply operated on the grouping columns. This behavior is deprecated, and in a future version of pandas the grouping columns will be excluded from the operation. Either pass `include_groups=False` to exclude the groupings or explicitly select the grouping columns after groupby to silence this warning.\n",
      "  df = df.groupby('Product Category').apply(desviacion_respecto_media)\n"
     ]
    }
   ],
   "source": [
    "# Calcular la desviación de cada venta respecto a la media del grupo Producto\n",
    "def desviacion_respecto_media(grupo):\n",
    "    grupo['Desviacion_Venta'] = grupo['Quantity'] - grupo['Quantity'].mean()\n",
    "    return grupo\n",
    "\n",
    "# Aplicar la función personalizada usando apply en un groupby\n",
    "df = df.groupby('Product Category').apply(desviacion_respecto_media)\n",
    "\n",
    "# Verificar la nueva columna\n",
    "print(df[['Product Category', 'Quantity', 'Desviacion_Venta']].head())\n"
   ]
  }
 ],
 "metadata": {
  "kernelspec": {
   "display_name": "base",
   "language": "python",
   "name": "python3"
  },
  "language_info": {
   "codemirror_mode": {
    "name": "ipython",
    "version": 3
   },
   "file_extension": ".py",
   "mimetype": "text/x-python",
   "name": "python",
   "nbconvert_exporter": "python",
   "pygments_lexer": "ipython3",
   "version": "3.12.4"
  }
 },
 "nbformat": 4,
 "nbformat_minor": 2
}
